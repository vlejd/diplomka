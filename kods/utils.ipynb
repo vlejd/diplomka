{
 "cells": [
  {
   "cell_type": "code",
   "execution_count": 1,
   "metadata": {
    "collapsed": true
   },
   "outputs": [],
   "source": [
    "from __future__ import print_function\n",
    "import os, sys\n",
    "from collections import defaultdict as dfd\n"
   ]
  },
  {
   "cell_type": "code",
   "execution_count": 2,
   "metadata": {
    "collapsed": true
   },
   "outputs": [],
   "source": [
    "def read_fasta(file):\n",
    "    ret = []\n",
    "    for l in file:\n",
    "        l = l.strip()\n",
    "        if l.startswith('>'):\n",
    "            ret.append([l[1:],[]])\n",
    "        else:\n",
    "            ret[-1][1].append(l.strip())\n",
    "    \n",
    "    return [[x[0], ''.join(x[1])] for x in ret]\n"
   ]
  },
  {
   "cell_type": "code",
   "execution_count": 36,
   "metadata": {
    "collapsed": true
   },
   "outputs": [],
   "source": [
    "def read_fastq(file, size=None):\n",
    "    ret = []\n",
    "    line  = 0\n",
    "    \n",
    "    while True:\n",
    "        name = file.readline().strip()\n",
    "        if not name:\n",
    "            break\n",
    "        line +=1\n",
    "        if size and line> size: \n",
    "            break\n",
    "        seq = file.readline().strip()\n",
    "        plus = file.readline().strip()\n",
    "        quality = file.readline().strip()\n",
    "        ret.append([name,seq,quality])\n",
    "    return ret\n"
   ]
  },
  {
   "cell_type": "code",
   "execution_count": 44,
   "metadata": {
    "collapsed": true
   },
   "outputs": [],
   "source": [
    "def read_paired_fastq(file1, file2, size=None):\n",
    "    ret1 = read_fastq(file1, size)\n",
    "    ret2 = read_fastq(file2, size)\n",
    "    \n",
    "    for i in xrange(min(len(ret1), len(ret2))):\n",
    "        pair = [ret1[i], ret2[i]]\n",
    "        \n",
    "        if pair[0][0][-1] != '1':\n",
    "            raise(Exception('first file does not have first read'+str(pair)))\n",
    "\n",
    "        if pair[1][0][-1] != '2':\n",
    "            raise(Exception('second file does not have first read'))\n",
    "        \n",
    "        if pair[0][0][:-2] != pair[1][0][:-2]:\n",
    "            raise(Exception('paired reads name mismatch'))\n",
    "\n",
    "    return list(zip(ret1,ret2))\n"
   ]
  },
  {
   "cell_type": "code",
   "execution_count": 45,
   "metadata": {
    "collapsed": false
   },
   "outputs": [],
   "source": [
    "fname = '../data/usama/GAML-aureus.fasta'\n",
    "file = open(fname)\n",
    "data = read_fasta(file)"
   ]
  },
  {
   "cell_type": "code",
   "execution_count": 46,
   "metadata": {
    "collapsed": false
   },
   "outputs": [],
   "source": [
    "fname1 = '../data/usama/original/shortjump_1.fastq'\n",
    "fname2 = '../data/usama/original/shortjump_2.fastq'\n",
    "pairs = read_paired_fastq(open(fname1), open(fname2),10**4)"
   ]
  },
  {
   "cell_type": "code",
   "execution_count": 35,
   "metadata": {
    "collapsed": false,
    "scrolled": true
   },
   "outputs": [
    {
     "name": "stdout",
     "output_type": "stream",
     "text": [
      "0 @SRR022865.7/1\n",
      "10000 @SRR022865.51838/1\n",
      "20000 @SRR022865.103730/1\n",
      "30000 @SRR022865.155645/1\n",
      "40000 @SRR022865.207470/1\n",
      "50000 @SRR022865.259712/1\n",
      "60000 @SRR022865.311797/1\n",
      "70000 @SRR022865.363782/1\n",
      "80000 @SRR022865.416106/1\n",
      "90000 @SRR022865.468463/1\n",
      "100000 @SRR022865.520751/1\n",
      "110000 @SRR022865.571455/1\n",
      "120000 @SRR022865.623250/1\n",
      "130000 @SRR022865.675077/1\n",
      "140000 @SRR022865.727619/1\n",
      "150000 @SRR022865.780177/1\n",
      "160000 @SRR022865.832061/1\n",
      "170000 @SRR022865.883634/1\n",
      "180000 @SRR022865.935664/1\n",
      "190000 @SRR022865.987152/1\n",
      "200000 @SRR022865.1039677/1\n",
      "210000 @SRR022865.1091160/1\n",
      "220000 @SRR022865.1143181/1\n",
      "230000 @SRR022865.1196172/1\n",
      "240000 @SRR022865.1247816/1\n",
      "250000 @SRR022865.1300236/1\n",
      "260000 @SRR022865.1352129/1\n",
      "270000 @SRR022865.1404563/1\n",
      "280000 @SRR022865.1456289/1\n",
      "290000 @SRR022865.1508246/1\n",
      "300000 @SRR022865.1559731/1\n",
      "310000 @SRR022865.1611372/1\n",
      "320000 @SRR022865.1663405/1\n",
      "330000 @SRR022865.1714941/1\n",
      "340000 @SRR022865.1765772/1\n",
      "350000 @SRR022865.1817772/1\n",
      "360000 @SRR022865.1868851/1\n",
      "370000 @SRR022865.1920255/1\n",
      "380000 @SRR022865.1972341/1\n",
      "390000 @SRR022865.2024933/1\n",
      "400000 @SRR022865.2077042/1\n",
      "410000 @SRR022865.2128603/1\n",
      "420000 @SRR022865.2180243/1\n",
      "430000 @SRR022865.2231504/1\n",
      "440000 @SRR022865.2283078/1\n",
      "450000 @SRR022865.2335388/1\n",
      "460000 @SRR022865.2386571/1\n",
      "470000 @SRR022865.2437938/1\n",
      "480000 @SRR022865.2489240/1\n",
      "490000 @SRR022865.2541411/1\n",
      "500000 @SRR022865.2593257/1\n",
      "510000 @SRR022865.2646146/1\n",
      "520000 @SRR022865.2698015/1\n",
      "530000 @SRR022865.2749653/1\n",
      "540000 @SRR022865.2802076/1\n",
      "550000 @SRR022865.2854037/1\n",
      "560000 @SRR022865.2906592/1\n",
      "570000 @SRR022865.2957731/1\n",
      "580000 @SRR022865.3009825/1\n",
      "590000 @SRR022865.3060781/1\n",
      "600000 @SRR022865.3113173/1\n",
      "610000 @SRR022865.3164901/1\n",
      "620000 @SRR022865.3216709/1\n",
      "630000 @SRR022865.3268916/1\n",
      "640000 @SRR022865.3321439/1\n",
      "650000 @SRR022865.3373394/1\n",
      "660000 @SRR022865.3426572/1\n",
      "670000 @SRR022865.3478921/1\n",
      "680000 @SRR022865.3531506/1\n",
      "690000 @SRR022865.3583035/1\n",
      "700000 @SRR022865.3635364/1\n",
      "710000 @SRR022865.3687904/1\n",
      "720000 @SRR022865.3740021/1\n",
      "730000 @SRR022865.3792461/1\n",
      "740000 @SRR022865.3843875/1\n",
      "750000 @SRR022865.3895604/1\n",
      "760000 @SRR022865.3947224/1\n",
      "770000 @SRR022865.3999327/1\n",
      "780000 @SRR022865.4051439/1\n",
      "790000 @SRR022865.4103212/1\n",
      "800000 @SRR022865.4155618/1\n",
      "810000 @SRR022865.4207577/1\n",
      "820000 @SRR022865.4259794/1\n",
      "830000 @SRR022865.4311340/1\n",
      "840000 @SRR022865.4363502/1\n",
      "850000 @SRR022865.4415621/1\n",
      "860000 @SRR022865.4467446/1\n",
      "870000 @SRR022865.4518233/1\n",
      "880000 @SRR022865.4570329/1\n",
      "890000 @SRR022865.4622029/1\n",
      "900000 @SRR022865.4674189/1\n",
      "910000 @SRR022865.4726604/1\n",
      "920000 @SRR022865.4779528/1\n",
      "930000 @SRR022865.4831219/1\n",
      "940000 @SRR022865.4883415/1\n",
      "950000 @SRR022865.4935746/1\n",
      "960000 @SRR022865.4987933/1\n",
      "970000 @SRR022865.5039826/1\n",
      "980000 @SRR022865.5092132/1\n",
      "990000 @SRR022865.5143886/1\n",
      "1000000 @SRR022865.5196344/1\n",
      "1010000 @SRR022865.5248011/1\n",
      "1020000 @SRR022865.5299672/1\n",
      "1030000 @SRR022865.5351572/1\n",
      "1040000 @SRR022865.5403574/1\n",
      "1050000 @SRR022865.5455571/1\n",
      "1060000 @SRR022865.5507913/1\n",
      "1070000 @SRR022865.5559776/1\n",
      "1080000 @SRR022865.5610906/1\n",
      "1090000 @SRR022865.5662565/1\n",
      "1100000 @SRR022865.5713824/1\n",
      "1110000 @SRR022865.5765429/1\n",
      "1120000 @SRR022865.5817381/1\n",
      "1130000 @SRR022865.5868639/1\n",
      "1140000 @SRR022865.5921404/1\n",
      "1150000 @SRR022865.5973470/1\n",
      "1160000 @SRR022865.6026374/1\n",
      "1170000 @SRR022865.6078224/1\n",
      "1180000 @SRR022865.6129726/1\n",
      "1190000 @SRR022865.6181506/1\n",
      "1200000 @SRR022865.6234225/1\n",
      "1210000 @SRR022865.6286597/1\n",
      "1220000 @SRR022865.6338172/1\n",
      "1230000 @SRR022865.6390573/1\n",
      "1240000 @SRR022865.6443457/1\n",
      "1250000 @SRR022865.6496036/1\n",
      "1260000 @SRR022865.6548380/1\n",
      "1270000 @SRR022865.6601514/1\n",
      "1280000 @SRR022865.6654171/1\n",
      "1290000 @SRR022865.6706910/1\n",
      "1300000 @SRR022865.6758636/1\n",
      "1310000 @SRR022865.6811770/1\n",
      "1320000 @SRR022865.6864266/1\n",
      "1330000 @SRR022865.6916717/1\n",
      "1340000 @SRR022865.6968732/1\n",
      "1350000 @SRR022865.7020375/1\n",
      "1360000 @SRR022865.7073230/1\n",
      "1370000 @SRR022865.7125222/1\n",
      "1380000 @SRR022865.7177501/1\n",
      "1390000 @SRR022865.7228938/1\n",
      "1400000 @SRR022865.7280873/1\n",
      "1410000 @SRR022865.7332744/1\n",
      "1420000 @SRR022865.7383978/1\n",
      "1430000 @SRR022865.7436252/1\n",
      "1440000 @SRR022865.7488368/1\n",
      "1450000 @SRR022865.7539931/1\n",
      "1460000 @SRR022865.7591567/1\n",
      "1470000 @SRR022865.7643849/1\n",
      "1480000 @SRR022865.7695198/1\n",
      "1490000 @SRR022865.7747475/1\n",
      "1500000 @SRR022865.7800119/1\n",
      "1510000 @SRR022865.7851279/1\n",
      "1520000 @SRR022865.7902959/1\n",
      "1530000 @SRR022865.7955039/1\n",
      "1540000 @SRR022865.8006811/1\n",
      "1550000 @SRR022865.8058798/1\n",
      "1560000 @SRR022865.8110866/1\n",
      "1570000 @SRR022865.8162131/1\n",
      "1580000 @SRR022865.8214157/1\n",
      "1590000 @SRR022865.8266173/1\n",
      "1600000 @SRR022865.8317988/1\n",
      "1610000 @SRR022865.8370114/1\n",
      "1620000 @SRR022865.8421548/1\n",
      "1630000 @SRR022865.8473815/1\n",
      "1640000 @SRR022865.8526186/1\n",
      "1650000 @SRR022865.8577642/1\n",
      "1660000 @SRR022865.8629912/1\n",
      "1670000 @SRR022865.8681928/1\n",
      "1680000 @SRR022865.8733962/1\n",
      "1690000 @SRR022865.8785747/1\n",
      "1700000 @SRR022865.8838235/1\n",
      "1710000 @SRR022865.8889606/1\n",
      "1720000 @SRR022865.8941810/1\n",
      "1730000 @SRR022865.8993067/1\n",
      "1740000 @SRR022865.9044874/1\n"
     ]
    },
    {
     "ename": "KeyboardInterrupt",
     "evalue": "",
     "output_type": "error",
     "traceback": [
      "\u001b[0;31m---------------------------------------------------------------------------\u001b[0m",
      "\u001b[0;31mKeyboardInterrupt\u001b[0m                         Traceback (most recent call last)",
      "\u001b[0;32m<ipython-input-35-c97c44e215a7>\u001b[0m in \u001b[0;36m<module>\u001b[0;34m()\u001b[0m\n\u001b[0;32m----> 1\u001b[0;31m \u001b[0mpom\u001b[0m \u001b[0;34m=\u001b[0m \u001b[0mread_fastq\u001b[0m\u001b[0;34m(\u001b[0m\u001b[0mopen\u001b[0m\u001b[0;34m(\u001b[0m\u001b[0mfname1\u001b[0m\u001b[0;34m)\u001b[0m\u001b[0;34m)\u001b[0m\u001b[0;34m\u001b[0m\u001b[0m\n\u001b[0m",
      "\u001b[0;32m<ipython-input-34-cb78e3b8e729>\u001b[0m in \u001b[0;36mread_fastq\u001b[0;34m(file, size)\u001b[0m\n\u001b[1;32m      4\u001b[0m \u001b[0;34m\u001b[0m\u001b[0m\n\u001b[1;32m      5\u001b[0m     \u001b[0;32mwhile\u001b[0m \u001b[0mTrue\u001b[0m\u001b[0;34m:\u001b[0m\u001b[0;34m\u001b[0m\u001b[0m\n\u001b[0;32m----> 6\u001b[0;31m         \u001b[0mname\u001b[0m \u001b[0;34m=\u001b[0m \u001b[0mfile\u001b[0m\u001b[0;34m.\u001b[0m\u001b[0mreadline\u001b[0m\u001b[0;34m(\u001b[0m\u001b[0;34m)\u001b[0m\u001b[0;34m.\u001b[0m\u001b[0mstrip\u001b[0m\u001b[0;34m(\u001b[0m\u001b[0;34m)\u001b[0m\u001b[0;34m\u001b[0m\u001b[0m\n\u001b[0m\u001b[1;32m      7\u001b[0m         \u001b[0;32mif\u001b[0m \u001b[0;32mnot\u001b[0m \u001b[0mlen\u001b[0m\u001b[0;34m(\u001b[0m\u001b[0mret\u001b[0m\u001b[0;34m)\u001b[0m\u001b[0;34m%\u001b[0m \u001b[0;36m10000\u001b[0m\u001b[0;34m:\u001b[0m\u001b[0;34m\u001b[0m\u001b[0m\n\u001b[1;32m      8\u001b[0m             \u001b[0;32mprint\u001b[0m\u001b[0;34m(\u001b[0m\u001b[0mlen\u001b[0m\u001b[0;34m(\u001b[0m\u001b[0mret\u001b[0m\u001b[0;34m)\u001b[0m\u001b[0;34m,\u001b[0m \u001b[0mname\u001b[0m\u001b[0;34m)\u001b[0m\u001b[0;34m\u001b[0m\u001b[0m\n",
      "\u001b[0;31mKeyboardInterrupt\u001b[0m: "
     ]
    }
   ],
   "source": [
    "pom = read_fastq(open(fname1))"
   ]
  },
  {
   "cell_type": "code",
   "execution_count": 54,
   "metadata": {
    "collapsed": false
   },
   "outputs": [],
   "source": [
    "def kmeryfie(generator, k):\n",
    "    ids = {}\n",
    "    graph = dfd(list)\n",
    "    for read in generator:\n",
    "        last = None\n",
    "        for index in range(len(read)-k+1):\n",
    "            now = read[index:index+k]\n",
    "            if now not in ids:\n",
    "                ids[now] = len(ids)\n",
    "            if last:\n",
    "                graph[ids[last]].append(ids[now])\n",
    "            last = now\n",
    "\n",
    "    return (ids, graph)"
   ]
  },
  {
   "cell_type": "code",
   "execution_count": 63,
   "metadata": {
    "collapsed": false
   },
   "outputs": [],
   "source": [
    "maper, graph = kmeryfie(map(lambda x:x[0][1], pairs),30)"
   ]
  },
  {
   "cell_type": "code",
   "execution_count": 66,
   "metadata": {
    "collapsed": false
   },
   "outputs": [],
   "source": [
    "lens = map(lambda x: len(x[1]), graph.items())"
   ]
  },
  {
   "cell_type": "code",
   "execution_count": 67,
   "metadata": {
    "collapsed": false
   },
   "outputs": [
    {
     "data": {
      "text/plain": [
       "[142, 143, 144, 144, 145, 148, 150, 150, 154, 286]"
      ]
     },
     "execution_count": 67,
     "metadata": {},
     "output_type": "execute_result"
    }
   ],
   "source": [
    "sorted(lens)[-10:]"
   ]
  },
  {
   "cell_type": "code",
   "execution_count": null,
   "metadata": {
    "collapsed": true
   },
   "outputs": [],
   "source": []
  }
 ],
 "metadata": {
  "kernelspec": {
   "display_name": "Python 2",
   "language": "python",
   "name": "python2"
  },
  "language_info": {
   "codemirror_mode": {
    "name": "ipython",
    "version": 2
   },
   "file_extension": ".py",
   "mimetype": "text/x-python",
   "name": "python",
   "nbconvert_exporter": "python",
   "pygments_lexer": "ipython2",
   "version": "2.7.6"
  }
 },
 "nbformat": 4,
 "nbformat_minor": 1
}
